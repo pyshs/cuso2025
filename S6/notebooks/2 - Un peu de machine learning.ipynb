{
 "cells": [
  {
   "cell_type": "markdown",
   "metadata": {},
   "source": [
    "# De la représentation au machine learning\n",
    "\n",
    "Un exemple parmi d'autres\n",
    "\n",
    "- une représentation numérique\n",
    "- un modèle (supevisé ou non supervisé) en fonction de la tâche"
   ]
  },
  {
   "cell_type": "code",
   "execution_count": 4,
   "metadata": {},
   "outputs": [],
   "source": [
    "#!pip install scipy"
   ]
  },
  {
   "cell_type": "markdown",
   "metadata": {},
   "source": [
    "## Charger et nettoyer les données"
   ]
  },
  {
   "cell_type": "code",
   "execution_count": 2,
   "metadata": {},
   "outputs": [
    {
     "data": {
      "text/html": [
       "<div>\n",
       "<style scoped>\n",
       "    .dataframe tbody tr th:only-of-type {\n",
       "        vertical-align: middle;\n",
       "    }\n",
       "\n",
       "    .dataframe tbody tr th {\n",
       "        vertical-align: top;\n",
       "    }\n",
       "\n",
       "    .dataframe thead th {\n",
       "        text-align: right;\n",
       "    }\n",
       "</style>\n",
       "<table border=\"1\" class=\"dataframe\">\n",
       "  <thead>\n",
       "    <tr style=\"text-align: right;\">\n",
       "      <th></th>\n",
       "      <th>id</th>\n",
       "      <th>doi</th>\n",
       "      <th>title</th>\n",
       "      <th>display_name</th>\n",
       "      <th>relevance_score</th>\n",
       "      <th>publication_year</th>\n",
       "      <th>publication_date</th>\n",
       "      <th>language</th>\n",
       "      <th>type</th>\n",
       "      <th>type_crossref</th>\n",
       "      <th>...</th>\n",
       "      <th>locations.source</th>\n",
       "      <th>sustainable_development_goals.id</th>\n",
       "      <th>sustainable_development_goals.display_name</th>\n",
       "      <th>sustainable_development_goals.score</th>\n",
       "      <th>grants.funder</th>\n",
       "      <th>grants.funder_display_name</th>\n",
       "      <th>grants.award_id</th>\n",
       "      <th>counts_by_year.year</th>\n",
       "      <th>counts_by_year.cited_by_count</th>\n",
       "      <th>texte</th>\n",
       "    </tr>\n",
       "  </thead>\n",
       "  <tbody>\n",
       "    <tr>\n",
       "      <th>0</th>\n",
       "      <td>https://openalex.org/W2159397589</td>\n",
       "      <td>https://doi.org/10.1126/science.1167742</td>\n",
       "      <td>Computational Social Science</td>\n",
       "      <td>Computational Social Science</td>\n",
       "      <td>1318.19960</td>\n",
       "      <td>2009</td>\n",
       "      <td>2009-02-06</td>\n",
       "      <td>en</td>\n",
       "      <td>article</td>\n",
       "      <td>journal-article</td>\n",
       "      <td>...</td>\n",
       "      <td>nan|nan|nan|nan|nan</td>\n",
       "      <td>https://metadata.un.org/sdg/10</td>\n",
       "      <td>Reduced inequalities</td>\n",
       "      <td>0.45</td>\n",
       "      <td>NaN</td>\n",
       "      <td>NaN</td>\n",
       "      <td>NaN</td>\n",
       "      <td>2025|2024|2023|2022|2021|2020|2019|2018|2017|2...</td>\n",
       "      <td>41|114|168|146|219|273|254|250|257|220|277|267...</td>\n",
       "      <td>Computational Social Science 14,0642,033Metric...</td>\n",
       "    </tr>\n",
       "    <tr>\n",
       "      <th>1</th>\n",
       "      <td>https://openalex.org/W2070907364</td>\n",
       "      <td>https://doi.org/10.1140/epjst/e2012-01697-8</td>\n",
       "      <td>Manifesto of computational social science</td>\n",
       "      <td>Manifesto of computational social science</td>\n",
       "      <td>488.98035</td>\n",
       "      <td>2012</td>\n",
       "      <td>2012-11-01</td>\n",
       "      <td>en</td>\n",
       "      <td>article</td>\n",
       "      <td>journal-article</td>\n",
       "      <td>...</td>\n",
       "      <td>nan|nan|nan|nan|nan|nan|nan|nan|nan|nan|nan|nan</td>\n",
       "      <td>https://metadata.un.org/sdg/3</td>\n",
       "      <td>Good health and well-being</td>\n",
       "      <td>0.47</td>\n",
       "      <td>NaN</td>\n",
       "      <td>NaN</td>\n",
       "      <td>NaN</td>\n",
       "      <td>2025|2024|2023|2022|2021|2020|2019|2018|2017|2...</td>\n",
       "      <td>4|22|41|35|47|33|33|38|24|32|36|30|19|4</td>\n",
       "      <td>Manifesto of computational social science The ...</td>\n",
       "    </tr>\n",
       "    <tr>\n",
       "      <th>3</th>\n",
       "      <td>https://openalex.org/W3022499311</td>\n",
       "      <td>https://doi.org/10.1146/annurev-soc-121919-054621</td>\n",
       "      <td>Computational Social Science and Sociology</td>\n",
       "      <td>Computational Social Science and Sociology</td>\n",
       "      <td>365.42535</td>\n",
       "      <td>2020</td>\n",
       "      <td>2020-04-28</td>\n",
       "      <td>en</td>\n",
       "      <td>article</td>\n",
       "      <td>journal-article</td>\n",
       "      <td>...</td>\n",
       "      <td>nan|nan|nan</td>\n",
       "      <td>https://metadata.un.org/sdg/10</td>\n",
       "      <td>Reduced inequalities</td>\n",
       "      <td>0.41</td>\n",
       "      <td>NaN</td>\n",
       "      <td>NaN</td>\n",
       "      <td>NaN</td>\n",
       "      <td>2025|2024|2023|2022|2021|2020</td>\n",
       "      <td>17|51|65|56|34|9</td>\n",
       "      <td>Computational Social Science and Sociology The...</td>\n",
       "    </tr>\n",
       "    <tr>\n",
       "      <th>7</th>\n",
       "      <td>https://openalex.org/W4389636360</td>\n",
       "      <td>https://doi.org/10.1162/coli_a_00502</td>\n",
       "      <td>Can Large Language Models Transform Computatio...</td>\n",
       "      <td>Can Large Language Models Transform Computatio...</td>\n",
       "      <td>297.86798</td>\n",
       "      <td>2023</td>\n",
       "      <td>2023-12-12</td>\n",
       "      <td>en</td>\n",
       "      <td>article</td>\n",
       "      <td>journal-article</td>\n",
       "      <td>...</td>\n",
       "      <td>nan|nan</td>\n",
       "      <td>NaN</td>\n",
       "      <td>NaN</td>\n",
       "      <td>NaN</td>\n",
       "      <td>NaN</td>\n",
       "      <td>NaN</td>\n",
       "      <td>NaN</td>\n",
       "      <td>2025|2024|2023</td>\n",
       "      <td>72|114|39</td>\n",
       "      <td>Can Large Language Models Transform Computatio...</td>\n",
       "    </tr>\n",
       "    <tr>\n",
       "      <th>9</th>\n",
       "      <td>https://openalex.org/W3124521395</td>\n",
       "      <td>https://doi.org/10.3389/fpsyg.2014.00668</td>\n",
       "      <td>On agent-based modeling and computational soci...</td>\n",
       "      <td>On agent-based modeling and computational soci...</td>\n",
       "      <td>275.27340</td>\n",
       "      <td>2014</td>\n",
       "      <td>2014-07-14</td>\n",
       "      <td>en</td>\n",
       "      <td>article</td>\n",
       "      <td>journal-article</td>\n",
       "      <td>...</td>\n",
       "      <td>nan|nan|nan|nan|nan</td>\n",
       "      <td>https://metadata.un.org/sdg/10</td>\n",
       "      <td>Reduced inequalities</td>\n",
       "      <td>0.47</td>\n",
       "      <td>NaN</td>\n",
       "      <td>NaN</td>\n",
       "      <td>NaN</td>\n",
       "      <td>2025|2024|2023|2022|2021|2020|2019|2018|2017|2...</td>\n",
       "      <td>4|17|16|13|18|22|10|13|12|8|7|2|3</td>\n",
       "      <td>On agent-based modeling and computational soci...</td>\n",
       "    </tr>\n",
       "  </tbody>\n",
       "</table>\n",
       "<p>5 rows × 183 columns</p>\n",
       "</div>"
      ],
      "text/plain": [
       "                                 id  \\\n",
       "0  https://openalex.org/W2159397589   \n",
       "1  https://openalex.org/W2070907364   \n",
       "3  https://openalex.org/W3022499311   \n",
       "7  https://openalex.org/W4389636360   \n",
       "9  https://openalex.org/W3124521395   \n",
       "\n",
       "                                                 doi  \\\n",
       "0            https://doi.org/10.1126/science.1167742   \n",
       "1        https://doi.org/10.1140/epjst/e2012-01697-8   \n",
       "3  https://doi.org/10.1146/annurev-soc-121919-054621   \n",
       "7               https://doi.org/10.1162/coli_a_00502   \n",
       "9           https://doi.org/10.3389/fpsyg.2014.00668   \n",
       "\n",
       "                                               title  \\\n",
       "0                       Computational Social Science   \n",
       "1          Manifesto of computational social science   \n",
       "3         Computational Social Science and Sociology   \n",
       "7  Can Large Language Models Transform Computatio...   \n",
       "9  On agent-based modeling and computational soci...   \n",
       "\n",
       "                                        display_name  relevance_score  \\\n",
       "0                       Computational Social Science       1318.19960   \n",
       "1          Manifesto of computational social science        488.98035   \n",
       "3         Computational Social Science and Sociology        365.42535   \n",
       "7  Can Large Language Models Transform Computatio...        297.86798   \n",
       "9  On agent-based modeling and computational soci...        275.27340   \n",
       "\n",
       "   publication_year publication_date language     type    type_crossref  ...  \\\n",
       "0              2009       2009-02-06       en  article  journal-article  ...   \n",
       "1              2012       2012-11-01       en  article  journal-article  ...   \n",
       "3              2020       2020-04-28       en  article  journal-article  ...   \n",
       "7              2023       2023-12-12       en  article  journal-article  ...   \n",
       "9              2014       2014-07-14       en  article  journal-article  ...   \n",
       "\n",
       "                                  locations.source  \\\n",
       "0                              nan|nan|nan|nan|nan   \n",
       "1  nan|nan|nan|nan|nan|nan|nan|nan|nan|nan|nan|nan   \n",
       "3                                      nan|nan|nan   \n",
       "7                                          nan|nan   \n",
       "9                              nan|nan|nan|nan|nan   \n",
       "\n",
       "   sustainable_development_goals.id  \\\n",
       "0    https://metadata.un.org/sdg/10   \n",
       "1     https://metadata.un.org/sdg/3   \n",
       "3    https://metadata.un.org/sdg/10   \n",
       "7                               NaN   \n",
       "9    https://metadata.un.org/sdg/10   \n",
       "\n",
       "   sustainable_development_goals.display_name  \\\n",
       "0                        Reduced inequalities   \n",
       "1                  Good health and well-being   \n",
       "3                        Reduced inequalities   \n",
       "7                                         NaN   \n",
       "9                        Reduced inequalities   \n",
       "\n",
       "  sustainable_development_goals.score grants.funder  \\\n",
       "0                                0.45           NaN   \n",
       "1                                0.47           NaN   \n",
       "3                                0.41           NaN   \n",
       "7                                 NaN           NaN   \n",
       "9                                0.47           NaN   \n",
       "\n",
       "   grants.funder_display_name  grants.award_id  \\\n",
       "0                         NaN              NaN   \n",
       "1                         NaN              NaN   \n",
       "3                         NaN              NaN   \n",
       "7                         NaN              NaN   \n",
       "9                         NaN              NaN   \n",
       "\n",
       "                                 counts_by_year.year  \\\n",
       "0  2025|2024|2023|2022|2021|2020|2019|2018|2017|2...   \n",
       "1  2025|2024|2023|2022|2021|2020|2019|2018|2017|2...   \n",
       "3                      2025|2024|2023|2022|2021|2020   \n",
       "7                                     2025|2024|2023   \n",
       "9  2025|2024|2023|2022|2021|2020|2019|2018|2017|2...   \n",
       "\n",
       "                       counts_by_year.cited_by_count  \\\n",
       "0  41|114|168|146|219|273|254|250|257|220|277|267...   \n",
       "1            4|22|41|35|47|33|33|38|24|32|36|30|19|4   \n",
       "3                                   17|51|65|56|34|9   \n",
       "7                                          72|114|39   \n",
       "9                  4|17|16|13|18|22|10|13|12|8|7|2|3   \n",
       "\n",
       "                                               texte  \n",
       "0  Computational Social Science 14,0642,033Metric...  \n",
       "1  Manifesto of computational social science The ...  \n",
       "3  Computational Social Science and Sociology The...  \n",
       "7  Can Large Language Models Transform Computatio...  \n",
       "9  On agent-based modeling and computational soci...  \n",
       "\n",
       "[5 rows x 183 columns]"
      ]
     },
     "execution_count": 2,
     "metadata": {},
     "output_type": "execute_result"
    }
   ],
   "source": [
    "import pandas as pd\n",
    "df = pd.read_csv(\"../data/CSS_exact_openalex.csv\")\n",
    "df = df[~df[\"abstract\"].isna()]\n",
    "df[\"texte\"] = df[\"title\"] + \" \" + df[\"abstract\"]\n",
    "df.head()"
   ]
  },
  {
   "cell_type": "markdown",
   "metadata": {},
   "source": [
    "## Calculer une représentation tf-idf"
   ]
  },
  {
   "cell_type": "code",
   "execution_count": 3,
   "metadata": {},
   "outputs": [],
   "source": [
    "from sklearn.feature_extraction.text import TfidfVectorizer\n",
    "from scipy.cluster.hierarchy import dendrogram, linkage\n",
    "import matplotlib.pyplot as plt\n",
    "\n",
    "vectorizer = TfidfVectorizer()\n",
    "tfidf_matrix = vectorizer.fit_transform(df['texte'])"
   ]
  },
  {
   "cell_type": "markdown",
   "metadata": {},
   "source": [
    "## Faire une classification hiérarchique ascendante\n"
   ]
  },
  {
   "cell_type": "markdown",
   "metadata": {},
   "source": [
    "Calcule la distance entre chaque texte"
   ]
  },
  {
   "cell_type": "code",
   "execution_count": 4,
   "metadata": {},
   "outputs": [],
   "source": [
    "Z = linkage(tfidf_matrix.toarray(), method='ward') "
   ]
  },
  {
   "cell_type": "markdown",
   "metadata": {},
   "source": [
    "Faire une représentation"
   ]
  },
  {
   "cell_type": "code",
   "execution_count": 5,
   "metadata": {},
   "outputs": [
    {
     "data": {
      "image/png": "[encoded data removed]",
      "text/plain": [
       "<Figure size 500x500 with 1 Axes>"
      ]
     },
     "metadata": {},
     "output_type": "display_data"
    }
   ],
   "source": [
    "import matplotlib.pyplot as plt\n",
    "\n",
    "plt.figure(figsize=(5, 5))\n",
    "dendrogram(Z, orientation='right')\n",
    "plt.title(\"Classification Hiérarchique Ascendante (CHA)\")\n",
    "plt.tight_layout()\n",
    "plt.show()"
   ]
  },
  {
   "cell_type": "markdown",
   "metadata": {},
   "source": [
    "Quels sont les questions les plus fréquentes ? Sont-elles posées sur les mêmes périodes ?"
   ]
  },
  {
   "cell_type": "code",
   "execution_count": 8,
   "metadata": {},
   "outputs": [],
   "source": [
    "from sklearn.cluster import AgglomerativeClustering\n",
    "cluster = AgglomerativeClustering(n_clusters=5,  linkage='ward')\n",
    "labels = cluster.fit_predict(tfidf_matrix.toarray())\n",
    "df['cluster'] = labels"
   ]
  },
  {
   "cell_type": "code",
   "execution_count": 9,
   "metadata": {},
   "outputs": [
    {
     "data": {
      "text/plain": [
       "cluster\n",
       "0    439\n",
       "1    207\n",
       "4     30\n",
       "2      7\n",
       "3      7\n",
       "Name: count, dtype: int64"
      ]
     },
     "execution_count": 9,
     "metadata": {},
     "output_type": "execute_result"
    }
   ],
   "source": [
    "df['cluster'].value_counts()"
   ]
  },
  {
   "cell_type": "markdown",
   "metadata": {},
   "source": [
    "Faire une représentation temporelle des clusters"
   ]
  },
  {
   "cell_type": "code",
   "execution_count": 12,
   "metadata": {},
   "outputs": [
    {
     "data": {
      "image/png": "[encoded data removed]",
      "text/plain": [
       "<Figure size 1000x500 with 1 Axes>"
      ]
     },
     "metadata": {},
     "output_type": "display_data"
    }
   ],
   "source": [
    "fig, ax = plt.subplots(figsize=(10, 5))\n",
    "df['date_val'] = pd.to_datetime(df[\"publication_date\"])\n",
    "df.set_index('date_val').resample('ME')[\"cluster\"].value_counts().unstack().plot(ax = ax);"
   ]
  },
  {
   "cell_type": "markdown",
   "metadata": {},
   "source": [
    "### Quel est le contenu des clusters ?\n",
    "\n",
    "Comment faire pour faire un résumé des clusters ? "
   ]
  },
  {
   "cell_type": "markdown",
   "metadata": {},
   "source": [
    "Une réponse : prendre la liste des mots les plus spécifiques"
   ]
  },
  {
   "cell_type": "code",
   "execution_count": 21,
   "metadata": {},
   "outputs": [],
   "source": [
    "df_w = pd.DataFrame(tfidf_matrix.toarray(), \n",
    "                    columns=vectorizer.get_feature_names_out(), \n",
    "                    index=df.index) "
   ]
  },
  {
   "cell_type": "code",
   "execution_count": 23,
   "metadata": {},
   "outputs": [
    {
     "data": {
      "text/plain": [
       "designer           0.483394\n",
       "ictd               0.491694\n",
       "phone              0.514894\n",
       "representations    0.517614\n",
       "consumer           0.526773\n",
       "fertility          0.537212\n",
       "entertainment      0.547879\n",
       "css                0.550212\n",
       "objectivity        0.553142\n",
       "abcm               0.558443\n",
       "engels             0.569934\n",
       "disasters          0.571527\n",
       "privacy            0.581020\n",
       "regulation         0.586120\n",
       "smart              0.601850\n",
       "sustainability     0.619364\n",
       "welfare            0.619496\n",
       "mannheim           0.667790\n",
       "informatics        0.672014\n",
       "bioethics          0.700635\n",
       "dtype: float64"
      ]
     },
     "execution_count": 23,
     "metadata": {},
     "output_type": "execute_result"
    }
   ],
   "source": [
    "df_w[df[\"cluster\"] == 1].max().sort_values()[-20:]"
   ]
  },
  {
   "cell_type": "markdown",
   "metadata": {},
   "source": [
    "On peut améliorer :\n",
    "\n",
    "- le choix des clusters\n",
    "- la manière de résumer un cluster\n",
    "- la représentation des textes\n",
    "- le découpage des textes"
   ]
  },
  {
   "cell_type": "markdown",
   "metadata": {},
   "source": [
    "## D'autres embeddings\n",
    "\n",
    "Par exemple, les modèles fasttext https://fasttext.cc/"
   ]
  },
  {
   "cell_type": "code",
   "execution_count": null,
   "metadata": {},
   "outputs": [],
   "source": [
    "from gensim.models.fasttext import load_facebook_vectors\n",
    "import numpy as np"
   ]
  },
  {
   "cell_type": "code",
   "execution_count": null,
   "metadata": {},
   "outputs": [],
   "source": [
    "# Télécharger ce modèle depuis https://fasttext.cc/docs/en/crawl-vectors.html\n",
    "model = load_facebook_vectors('../../../../../../Documents/models/cc.fr.300.bin')"
   ]
  },
  {
   "cell_type": "code",
   "execution_count": null,
   "metadata": {},
   "outputs": [],
   "source": [
    "def document_vector(words):\n",
    "    word_vecs = [model[word] for word in words if word in model]\n",
    "    return np.mean(word_vecs, axis=0) if word_vecs else np.zeros(model.vector_size)\n",
    "\n",
    "# Matrice d'embeddings\n",
    "X_embed = np.array([document_vector(doc) for doc in documents])\n",
    "print(X_embed.shape)"
   ]
  },
  {
   "cell_type": "markdown",
   "metadata": {},
   "source": [
    "Ou bien utiliser sbert https://sbert.net/ \n",
    "\n",
    "On voit apparaître de plus en plus de modèles"
   ]
  },
  {
   "cell_type": "markdown",
   "metadata": {},
   "source": [
    "Ensuite la logique est la même..."
   ]
  },
  {
   "cell_type": "markdown",
   "metadata": {},
   "source": [
    "## Empiler les traitements : BERTOPIC\n",
    "\n",
    "Utiliser les différentes couches ensemble pour faire de la détection de thématiques : pipelines comme [BERTOPIC](https://maartengr.github.io/BERTopic/index.html)\n",
    "\n",
    "![](../slides/img/bertopic.png)\n",
    "\n",
    "[Faisons un test sur les données](https://maartengr.github.io/BERTopic/getting_started/quickstart/quickstart.html)\n"
   ]
  },
  {
   "cell_type": "code",
   "execution_count": null,
   "metadata": {},
   "outputs": [],
   "source": [
    "import nltk\n",
    "from nltk.corpus import stopwords\n",
    "from sentence_transformers import SentenceTransformer\n",
    "from sklearn.feature_extraction.text import CountVectorizer\n",
    "import bertopic\n",
    "\n",
    "nltk.download(\"stopwords\")\n",
    "french_stopwords = list(set(stopwords.words(\"french\")))\n",
    "vectorizer_model = CountVectorizer(stop_words=french_stopwords)\n",
    "topic_model = bertopic.BERTopic(            language=\"french\", \n",
    "            vectorizer_model=vectorizer_model)\n",
    "topics, probs = topic_model.fit_transform(df['texte'])"
   ]
  },
  {
   "cell_type": "code",
   "execution_count": null,
   "metadata": {},
   "outputs": [],
   "source": [
    "topic_model.get_topic_info()"
   ]
  },
  {
   "cell_type": "code",
   "execution_count": null,
   "metadata": {},
   "outputs": [],
   "source": []
  }
 ],
 "metadata": {
  "kernelspec": {
   "display_name": "base",
   "language": "python",
   "name": "python3"
  },
  "language_info": {
   "codemirror_mode": {
    "name": "ipython",
    "version": 3
   },
   "file_extension": ".py",
   "mimetype": "text/x-python",
   "name": "python",
   "nbconvert_exporter": "python",
   "pygments_lexer": "ipython3",
   "version": "3.11.7"
  }
 },
 "nbformat": 4,
 "nbformat_minor": 4
}
