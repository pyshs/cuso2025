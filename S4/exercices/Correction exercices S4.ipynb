{
 "cells": [
  {
   "cell_type": "markdown",
   "id": "3790e78c",
   "metadata": {},
   "source": [
    "## Exercice séance 4\n",
    "\n",
    "Tous les exercices sont sur les données du fichier `CSS_openalex.csv` diponible ici : https://filesender.renater.fr/?s=download&token=01def21d-738d-48f1-860a-820c37fab6d7\n",
    "\n",
    "\n",
    "Ces données représentent toutes les publications scientifiques de la base openalex qui mentionnent `computational social science` dans leur titre ou abstract."
   ]
  },
  {
   "cell_type": "markdown",
   "id": "d55c2ce9",
   "metadata": {},
   "source": [
    "## Exercice 1\n",
    "\n",
    "- Quelle est la distribution des types de publications (`type`) du dataset en pourcentages\n",
    "- Renommer la modalité `Other` en `Autre` (regarder du côté de .replace)\n",
    "- Renomer la variable `primary_location.source.display_name` en `source` (regarder du côté de .rename)"
   ]
  },
  {
   "cell_type": "code",
   "execution_count": null,
   "id": "f7c994ac",
   "metadata": {},
   "outputs": [],
   "source": [
    "# Commencer par importer pandas\n",
    "import pandas as pd\n",
    "\n",
    "# Et lire les données\n",
    "df = pd.read_csv(\"../../data/CSS_openalex.csv\", low_memory=False)\n",
    "# low_memory=False n'est pas obligatoire mais me permet d'éviter le message d'erreur"
   ]
  },
  {
   "cell_type": "markdown",
   "id": "37a5057c",
   "metadata": {},
   "source": [
    "> Internally process the file in chunks, resulting in lower memory use while parsing, but possibly mixed type inference. To ensure no mixed types either set False, or specify the type with the dtype parameter. Note that the entire file is read into a single DataFrame regardless, use the chunksize or iterator parameter to return the data in chunks. (Only valid with C parser)."
   ]
  },
  {
   "cell_type": "markdown",
   "id": "ca72e8c5",
   "metadata": {},
   "source": [
    "### 1.1 Distribution"
   ]
  },
  {
   "cell_type": "code",
   "execution_count": null,
   "id": "81c82178",
   "metadata": {},
   "outputs": [],
   "source": [
    "# Je veux donc le nombre de publication par \"type\"\n",
    "df[\"type\"].value_counts()"
   ]
  },
  {
   "cell_type": "code",
   "execution_count": null,
   "id": "a859b3c1",
   "metadata": {},
   "outputs": [],
   "source": [
    "# En fait je veux les fréquences :\n",
    "# donc normaliser les valeurs : normalize=True\n",
    "df[\"type\"].value_counts(normalize=True)"
   ]
  },
  {
   "cell_type": "code",
   "execution_count": null,
   "id": "1858c633",
   "metadata": {},
   "outputs": [],
   "source": [
    "# Je les veux même en pourcentage ces fréquences : *100\n",
    "df[\"type\"].value_counts(normalize=True) * 100"
   ]
  },
  {
   "cell_type": "code",
   "execution_count": null,
   "id": "52299049",
   "metadata": {},
   "outputs": [],
   "source": [
    "# Et je peux arrondir :\n",
    "# la dernière valeur me permet de préciser le nb de chiffre après la virgule\n",
    "round(100 * df[\"type\"].value_counts(normalize=True), 2)"
   ]
  },
  {
   "cell_type": "markdown",
   "id": "9b246ef7",
   "metadata": {},
   "source": [
    "### 1.2 Renommer la modalité `Other` en `Autre` (regarder du côté de .replace)\n"
   ]
  },
  {
   "cell_type": "code",
   "execution_count": null,
   "id": "aaec4152",
   "metadata": {},
   "outputs": [],
   "source": [
    "# Recoder en utilisant replace\n",
    "\n",
    "df[\"type\"].replace({\"other\": \"autre\"}, inplace=True)\n",
    "# je peux utiliser inplace=True pour modifier directement le dataframe\n",
    "\n",
    "# l'alternative serait ça (que l'on retrouve pas mal) :\n",
    "# df[\"type\"] = df[\"type\"].replace({\"other\" : \"autre\"})\n",
    "\n",
    "# À DISCUTER : inplace est même désormais déconseillé ?\n",
    "# https://jorisvandenbossche.github.io/pandas-website-preview///pdeps/0008-inplace-methods-in-pandas.html"
   ]
  },
  {
   "cell_type": "code",
   "execution_count": null,
   "id": "3fe556f6",
   "metadata": {},
   "outputs": [],
   "source": [
    "df[\"type\"].value_counts()"
   ]
  },
  {
   "cell_type": "code",
   "execution_count": null,
   "id": "2b1688d6",
   "metadata": {},
   "outputs": [],
   "source": [
    "# Si on n'a qu'une modification, on peut se contenter de passer nos valeurs dans la parenthèse\n",
    "df[\"type\"] = df[\"type\"].replace(\"preprint\", \"pré-publication\")\n",
    "df[\"type\"].value_counts()"
   ]
  },
  {
   "cell_type": "code",
   "execution_count": null,
   "id": "d3f1a93f",
   "metadata": {},
   "outputs": [],
   "source": [
    "# mais le dictionnaire est pratique dès que l'on veut modifier plusieurs éléments :\n",
    "df[\"type\"] = df[\"type\"].replace(\n",
    "    {\n",
    "        \"article\": \"article\",\n",
    "        \"preprint\": \"pré-publication\",\n",
    "        \"book-chapter\": \"chapitre de livre\",\n",
    "        \"book\": \"livre\",\n",
    "        \"review\": \"revue de littérature\",\n",
    "    }\n",
    ")\n",
    "df[\"type\"].value_counts()"
   ]
  },
  {
   "cell_type": "markdown",
   "id": "e5ec1ae5",
   "metadata": {},
   "source": [
    "### 1.3 - Renomer la variable `primary_location.source.display_name` en `source` (regarder du côté de .rename)"
   ]
  },
  {
   "cell_type": "code",
   "execution_count": null,
   "id": "f93813cd",
   "metadata": {},
   "outputs": [],
   "source": [
    "df = df.rename(columns={\"primary_location.source.display_name\": \"source\"})"
   ]
  },
  {
   "cell_type": "code",
   "execution_count": null,
   "id": "e5c1b934",
   "metadata": {},
   "outputs": [],
   "source": [
    "df[\"source\"]"
   ]
  },
  {
   "cell_type": "markdown",
   "id": "cc807e40",
   "metadata": {},
   "source": [
    "## Exercice 2\n",
    "\n",
    "- Ajouter une colonne qui correspond au nombre de mots des titres (`title`) de chaque référence.\n",
    "- Calculer le nombre de mots moyens et la variance par `source`.\n",
    "- Quelle est la `source` qui a le plus de mots, le moins de mots ?\n"
   ]
  },
  {
   "cell_type": "markdown",
   "id": "6cfb9b42",
   "metadata": {},
   "source": [
    "### 2.1 Ajouter une colonne qui correspond au nombre de mots des titres (`title`) de chaque référence.\n"
   ]
  },
  {
   "cell_type": "code",
   "execution_count": null,
   "id": "924ab105",
   "metadata": {},
   "outputs": [],
   "source": [
    "# Facile à faire directement en pandas :\n",
    "df[\"title_nb_mots\"] = df[\"title\"].str.split().str.len()\n",
    "df[\"title_nb_mots\"]"
   ]
  },
  {
   "cell_type": "code",
   "execution_count": null,
   "id": "585b948e",
   "metadata": {},
   "outputs": [],
   "source": [
    "# Attention, s'il n'y a rien il ne met pas 0 mais renvoie un NaN\n",
    "df[\"title_nb_mots\"].isna().sum()"
   ]
  },
  {
   "cell_type": "code",
   "execution_count": null,
   "id": "2bdbcf8d",
   "metadata": {},
   "outputs": [],
   "source": [
    "# On savait déjà le faire en faisant une fonction\n",
    "# Attention : il faudrait en fait ici gérer les valeurs manquantes !\n",
    "\n",
    "\n",
    "def compter_mots(texte):\n",
    "    texte = str(texte)\n",
    "    mots = texte.split()\n",
    "    nb_mots = len(mots)\n",
    "    return nb_mots"
   ]
  },
  {
   "cell_type": "code",
   "execution_count": null,
   "id": "07c89dfe",
   "metadata": {},
   "outputs": [],
   "source": [
    "# Que l'on peut appliquer avec apply :\n",
    "df[\"title\"].apply(compter_mots)"
   ]
  },
  {
   "cell_type": "code",
   "execution_count": null,
   "id": "243a2ba8",
   "metadata": {},
   "outputs": [],
   "source": [
    "# pareil que ça avec de la compréhension de liste :\n",
    "df[\"title\"].apply(lambda x: len(str(x).split()))"
   ]
  },
  {
   "cell_type": "markdown",
   "id": "8cf35e57",
   "metadata": {},
   "source": [
    "### 2.2 Calculer le nombre de mots moyens et la variance par `source`."
   ]
  },
  {
   "cell_type": "code",
   "execution_count": null,
   "id": "314b80e0",
   "metadata": {},
   "outputs": [],
   "source": [
    "# je veux donc grouper par source\n",
    "# puis calculer la moyenne et la variance du nombre de mots\n",
    "df.groupby(\"source\")[\"title_nb_mots\"].mean()"
   ]
  },
  {
   "cell_type": "code",
   "execution_count": null,
   "id": "c85d7585",
   "metadata": {},
   "outputs": [],
   "source": [
    "df.groupby(\"source\")[\"title_nb_mots\"].var()"
   ]
  },
  {
   "cell_type": "code",
   "execution_count": null,
   "id": "c6d2dcba",
   "metadata": {},
   "outputs": [],
   "source": [
    "# Pour mettre tout en même temps avec .agg()\n",
    "df.groupby(\"source\")[\"title_nb_mots\"].agg([\"mean\", \"median\", \"var\", \"std\"])"
   ]
  },
  {
   "cell_type": "markdown",
   "id": "4b4370ac",
   "metadata": {},
   "source": [
    "### 2.3 Quelle est la `source` qui a le plus de mots, le moins de mots ?"
   ]
  },
  {
   "cell_type": "code",
   "execution_count": null,
   "id": "0cd9eb1e",
   "metadata": {},
   "outputs": [],
   "source": [
    "df[df[\"title_nb_mots\"] == df[\"title_nb_mots\"].max()]"
   ]
  },
  {
   "cell_type": "code",
   "execution_count": null,
   "id": "e3725017",
   "metadata": {},
   "outputs": [],
   "source": [
    "df[df[\"title_nb_mots\"] == df[\"title_nb_mots\"].min()]"
   ]
  },
  {
   "cell_type": "code",
   "execution_count": null,
   "id": "aac3d5c6",
   "metadata": {},
   "outputs": [],
   "source": [
    "df.loc[df[\"title_nb_mots\"].idxmax()]"
   ]
  },
  {
   "cell_type": "code",
   "execution_count": null,
   "id": "4f812ddc",
   "metadata": {},
   "outputs": [],
   "source": [
    "df.loc[df[\"title_nb_mots\"].idxmax(), \"source\"]"
   ]
  },
  {
   "cell_type": "markdown",
   "id": "4be2cb15",
   "metadata": {},
   "source": [
    "> If multiple values equal the maximum, the first row label with that value is returned."
   ]
  },
  {
   "cell_type": "code",
   "execution_count": null,
   "id": "e17eff58",
   "metadata": {},
   "outputs": [],
   "source": [
    "df.loc[df[\"title_nb_mots\"].idxmin()]"
   ]
  },
  {
   "cell_type": "code",
   "execution_count": null,
   "id": "20fe857d",
   "metadata": {},
   "outputs": [],
   "source": [
    "df[\"title_nb_mots\"].idxmin()"
   ]
  },
  {
   "cell_type": "markdown",
   "id": "a9dca16d",
   "metadata": {},
   "source": [
    "## Exercice 4\n",
    "\n",
    "- Découper le montant des frais de publication en USD (`apc_list.value_usd`) en quartiles avec la méthode `qcut`\n",
    "- Quelle est la référence qui a payé le montant le plus élevé ?"
   ]
  },
  {
   "cell_type": "markdown",
   "id": "949677af",
   "metadata": {},
   "source": [
    "### 4.1 - Découper le montant des frais de publication en USD (`apc_list.value_usd`) en quartiles avec la méthode `qcut`"
   ]
  },
  {
   "cell_type": "code",
   "execution_count": null,
   "id": "bc9b39ac",
   "metadata": {},
   "outputs": [],
   "source": [
    "df[\"apc_quartile\"] = pd.qcut(\n",
    "    df[\"apc_list.value_usd\"], [0, 0.25, 0.5, 0.75, 1], [\"Q1\", \"Q2\", \"Q3\", \"Q4\"]\n",
    ")"
   ]
  },
  {
   "cell_type": "code",
   "execution_count": null,
   "id": "24883496",
   "metadata": {},
   "outputs": [],
   "source": [
    "df[\"apc_quartile\"].value_counts(normalize=True).sort_index() * 100"
   ]
  },
  {
   "cell_type": "code",
   "execution_count": null,
   "id": "80dc6dcc",
   "metadata": {},
   "outputs": [],
   "source": [
    "df[\"apc_quartile\"].value_counts(normalize=True, dropna=False).sort_index() * 100"
   ]
  },
  {
   "cell_type": "markdown",
   "id": "284d7e9a",
   "metadata": {},
   "source": [
    "### 4.2 Quelle est la référence qui a payé le montant le plus élevé ?"
   ]
  },
  {
   "cell_type": "code",
   "execution_count": null,
   "id": "b4aa18d4",
   "metadata": {},
   "outputs": [],
   "source": [
    "df.loc[[df[\"apc_list.value_usd\"].idxmax()], [\"title\", \"source\", \"apc_list.value_usd\"]]"
   ]
  },
  {
   "cell_type": "markdown",
   "id": "d893ad92",
   "metadata": {},
   "source": [
    ">If multiple values equal the maximum, the first row label with that value is returned."
   ]
  },
  {
   "cell_type": "code",
   "execution_count": null,
   "id": "852c311d",
   "metadata": {},
   "outputs": [],
   "source": [
    "# je peux donc selectionner dans mon dataframe\n",
    "# l'ensemble des références qui remplissent la condition\n",
    "df[df[\"apc_list.value_usd\"] == df[\"apc_list.value_usd\"].max()]"
   ]
  },
  {
   "cell_type": "code",
   "execution_count": null,
   "id": "c5356415",
   "metadata": {},
   "outputs": [],
   "source": [
    "# et avec un peu de barbarie et de crochets renvoyer ce qui m'intéresse:\n",
    "df[df[\"apc_list.value_usd\"] == df[\"apc_list.value_usd\"].max()][\n",
    "    [\"title\", \"source\", \"apc_list.value_usd\"]\n",
    "]"
   ]
  },
  {
   "cell_type": "markdown",
   "id": "4d00ade3",
   "metadata": {},
   "source": [
    "## Exercice 5\n",
    "\n",
    "- Compter le nombre de publications par auteurs (`authorships.author.display_name`)\n",
    "- Conseil :\n",
    "    - spliter les auteurs sur \"|\"\n",
    "    - regarder ensuite du côté de `.explode()`et de `.value_counts()`\n",
    "- Faire un barplot des 5 principaux publiants\n"
   ]
  },
  {
   "cell_type": "markdown",
   "id": "4ad4655a",
   "metadata": {},
   "source": [
    "### 5.1 Compter le nombre de publications par auteurs (`authorships.author.display_name`)\n",
    "\n",
    "Plus prise de tête ici, demande à aller plus loin et manipuler un peu tout ça."
   ]
  },
  {
   "cell_type": "code",
   "execution_count": null,
   "id": "31f9f582",
   "metadata": {},
   "outputs": [],
   "source": [
    "# En fait nos auteurs sont plusieurs par cellule :\n",
    "df[\"authorships.author.display_name\"]"
   ]
  },
  {
   "cell_type": "code",
   "execution_count": null,
   "id": "7641dad5",
   "metadata": {},
   "outputs": [],
   "source": [
    "# Avant de les compter je dois donc les séparer\n",
    "# Je peux utiliser str.split(), équivalent pandas de split()\n",
    "df[\"auteurs\"] = df[\"authorships.author.display_name\"].str.split(\"|\")\n",
    "df[\"auteurs\"]"
   ]
  },
  {
   "cell_type": "code",
   "execution_count": null,
   "id": "4b5bcab5",
   "metadata": {},
   "outputs": [],
   "source": [
    "# puis exploser ça pour avoir un auteur par ligne\n",
    "# On a donc un colonne bien plus longue\n",
    "all_authors = df[\"auteurs\"].explode()\n",
    "all_authors"
   ]
  },
  {
   "cell_type": "code",
   "execution_count": null,
   "id": "b7b7f708",
   "metadata": {},
   "outputs": [],
   "source": [
    "# Et enfin on peut faire un value_counts() dessus:\n",
    "all_authors.value_counts()\n"
   ]
  },
  {
   "cell_type": "markdown",
   "id": "81a72667",
   "metadata": {},
   "source": [
    "### 5.2 Faire un barplot des 5 principaux publiants\n"
   ]
  },
  {
   "cell_type": "code",
   "execution_count": null,
   "id": "2eaa087f",
   "metadata": {},
   "outputs": [],
   "source": [
    "all_authors.value_counts()[0:5].plot(kind=\"bar\")"
   ]
  }
 ],
 "metadata": {
  "kernelspec": {
   "display_name": "myenv_clone",
   "language": "python",
   "name": "python3"
  },
  "language_info": {
   "codemirror_mode": {
    "name": "ipython",
    "version": 3
   },
   "file_extension": ".py",
   "mimetype": "text/x-python",
   "name": "python",
   "nbconvert_exporter": "python",
   "pygments_lexer": "ipython3",
   "version": "3.11.5"
  }
 },
 "nbformat": 4,
 "nbformat_minor": 5
}
